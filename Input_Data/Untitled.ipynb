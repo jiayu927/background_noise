{
 "cells": [
  {
   "cell_type": "code",
   "execution_count": 3,
   "id": "38a5d9f6-0bda-457d-83b2-da12e7a6918c",
   "metadata": {},
   "outputs": [
    {
     "ename": "NameError",
     "evalue": "name 'balancing_data' is not defined",
     "output_type": "error",
     "traceback": [
      "\u001b[1;31m---------------------------------------------------------------------------\u001b[0m",
      "\u001b[1;31mNameError\u001b[0m                                 Traceback (most recent call last)",
      "\u001b[1;32m~\\AppData\\Local\\Temp\\ipykernel_3288\\3322308884.py\u001b[0m in \u001b[0;36m<module>\u001b[1;34m\u001b[0m\n\u001b[0;32m     83\u001b[0m     \u001b[1;32mreturn\u001b[0m \u001b[0mnumber_sequences\u001b[0m\u001b[1;33m\u001b[0m\u001b[1;33m\u001b[0m\u001b[0m\n\u001b[0;32m     84\u001b[0m \u001b[1;31m#Get List of Number Sequences for number of trials in this block\u001b[0m\u001b[1;33m\u001b[0m\u001b[1;33m\u001b[0m\u001b[1;33m\u001b[0m\u001b[0m\n\u001b[1;32m---> 85\u001b[1;33m \u001b[0mnumber_sequences\u001b[0m \u001b[1;33m=\u001b[0m \u001b[0mlist_creator\u001b[0m\u001b[1;33m(\u001b[0m\u001b[0mos\u001b[0m\u001b[1;33m.\u001b[0m\u001b[0mpath\u001b[0m\u001b[1;33m.\u001b[0m\u001b[0mjoin\u001b[0m\u001b[1;33m(\u001b[0m\u001b[0mall_paths\u001b[0m\u001b[1;33m[\u001b[0m\u001b[1;34m'dir_balance'\u001b[0m\u001b[1;33m]\u001b[0m\u001b[1;33m,\u001b[0m \u001b[0mall_paths\u001b[0m\u001b[1;33m[\u001b[0m\u001b[1;34m'csv_number_combis'\u001b[0m\u001b[1;33m]\u001b[0m\u001b[1;33m)\u001b[0m\u001b[1;33m,\u001b[0m \u001b[0mlen\u001b[0m\u001b[1;33m(\u001b[0m\u001b[0mbalancing_data\u001b[0m\u001b[1;33m[\u001b[0m\u001b[1;34m'loc_sequence'\u001b[0m\u001b[1;33m]\u001b[0m\u001b[1;33m)\u001b[0m\u001b[1;33m)\u001b[0m\u001b[1;33m\u001b[0m\u001b[1;33m\u001b[0m\u001b[0m\n\u001b[0m\u001b[0;32m     86\u001b[0m \u001b[1;33m\u001b[0m\u001b[0m\n\u001b[0;32m     87\u001b[0m \u001b[1;31m#Shuffle location sequence randomly (co-located, separated)\u001b[0m\u001b[1;33m\u001b[0m\u001b[1;33m\u001b[0m\u001b[1;33m\u001b[0m\u001b[0m\n",
      "\u001b[1;31mNameError\u001b[0m: name 'balancing_data' is not defined"
     ]
    }
   ],
   "source": [
    "import VAPython as va\n",
    "import os, csv, time\n",
    "import numpy as np\n",
    "from psychopy import gui, core, visual, event\n",
    "\n",
    "#Set Dir:\n",
    "#################TODO: CHANGE to your PC!\n",
    "#os.chdir('D:\\\\MeineDaten\\\\Dokumente\\\\04_AUDICTIVE\\\\WP_Acou_B\\\\acou-1\\\\aVSR_Code_SimplifiedLaptopRunThrough')\n",
    "os.chdir('C:\\\\Users\\\\blibl\\Desktop\\\\CER_Paradigm\\\\aVSR_Code_SimplifiedLaptopRunThrough') \n",
    "\n",
    "#===================== Import functions========================\n",
    "import Functions.aVSR_config_VA as VA_config\n",
    "import Functions.aVSR_setup_parameters as VSR_param\n",
    "import Functions.aVSR_generateblocks as VSR_blocks\n",
    "\n",
    "#===================== Paths and Filenames ==============================\n",
    "all_paths = {\n",
    "    \n",
    "    #Directionaries\n",
    "    'dir_curr'        : os.getcwd(),\n",
    "    'dir_inputdata'   : os.path.join(os.getcwd(), 'Input_Data'),\n",
    "    'dir_balance'     : os.path.join(os.getcwd(), 'Input_Data', 'DigitSequences'),\n",
    "    'dir_imagefiles'  : os.path.join(os.getcwd(), 'Input_Data', 'ImageFiles'),\n",
    "    'dir_outputdata'  : os.path.join(os.getcwd(), 'Output_Data'),\n",
    "    'dir_funct'       : os.path.join(os.getcwd(), 'Functions'),\n",
    "    'dir_va'          : os.path.join(os.getcwd(), 'VA_full.v2023b.win64.vc14'),\n",
    "      \n",
    "    #CSV\n",
    "    'csv_balancing'     : 'block_balancing.csv',\n",
    "    'csv_number_combis' : 'numbers.csv',\n",
    "    \n",
    "    #TXT\n",
    "    'txt_instructions'  : 'instructions.txt',\n",
    "    }\n",
    "def list_creator(dir_numbers):\n",
    "    \"\"\"\n",
    "    Generates list of number sequences from number sequence csv with sufficient length (block_length)\n",
    "    If block_length is larger than amount of pre-defined sequences, some (x) are repeated\n",
    "    Direct repetition of the same sequence is avoided by taking the last (x) are not included\n",
    "\n",
    "\n",
    "    Parameters\n",
    "    ----------\n",
    "    dir_numbers : str\n",
    "        Path to csv with number sequences\n",
    "    block_length  : int      \n",
    "        Desired amount of blocks\n",
    "\n",
    "    Returns\n",
    "    -------\n",
    "    number_sequences : matrix\n",
    "        Numpy matrix (block_length x 9) with row = number_sequence for each trial\n",
    "    \n",
    "    Raises\n",
    "    -------\n",
    "    Exception           If block_length to large (1.5*avaliable sequences)\n",
    "\n",
    "    \"\"\"\n",
    "    number_sequences = []\n",
    "    num_reader = np.genfromtxt(dir_numbers, delimiter=\";\")\n",
    "    num_reader = num_reader.astype(int)\n",
    "    indizes = list(range(len(num_reader)))\n",
    "    random.shuffle(indizes)\n",
    "    number_sequences = num_reader[indizes]       \n",
    "    return number_sequences\n",
    "    \n",
    "#Get List of Number Sequences for number of trials in this block\n",
    "number_sequences = list_creator(os.path.join(all_paths['dir_balance'], all_paths['csv_number_combis'])))\n",
    "\n",
    "#Shuffle location sequence randomly (co-located, separated)\n",
    "loc_sequence = balancing_data['loc_sequence']\n",
    "random.shuffle(loc_sequence)\n",
    "    "
   ]
  },
  {
   "cell_type": "code",
   "execution_count": null,
   "id": "660ad9cf-5831-47a3-b1d6-0a15460910ee",
   "metadata": {},
   "outputs": [],
   "source": []
  }
 ],
 "metadata": {
  "kernelspec": {
   "display_name": "Python 3 (ipykernel)",
   "language": "python",
   "name": "python3"
  },
  "language_info": {
   "codemirror_mode": {
    "name": "ipython",
    "version": 3
   },
   "file_extension": ".py",
   "mimetype": "text/x-python",
   "name": "python",
   "nbconvert_exporter": "python",
   "pygments_lexer": "ipython3",
   "version": "3.8.0"
  }
 },
 "nbformat": 4,
 "nbformat_minor": 5
}
